{
  "nbformat": 4,
  "nbformat_minor": 0,
  "metadata": {
    "colab": {
      "provenance": [],
      "authorship_tag": "ABX9TyOP7CXnyJSsZ6qbKEfdZ2TO",
      "include_colab_link": true
    },
    "kernelspec": {
      "name": "python3",
      "display_name": "Python 3"
    },
    "language_info": {
      "name": "python"
    }
  },
  "cells": [
    {
      "cell_type": "markdown",
      "metadata": {
        "id": "view-in-github",
        "colab_type": "text"
      },
      "source": [
        "<a href=\"https://colab.research.google.com/github/shahdelmasry12/AI-and-ML-labs/blob/main/probability_and_statistics_questions.ipynb\" target=\"_parent\"><img src=\"https://colab.research.google.com/assets/colab-badge.svg\" alt=\"Open In Colab\"/></a>"
      ]
    },
    {
      "cell_type": "markdown",
      "source": [
        "# **Manual vs NumPy Mean**"
      ],
      "metadata": {
        "id": "CUqar8mTJ8aH"
      }
    },
    {
      "cell_type": "markdown",
      "source": [
        "1-Given a list of student ages and calculate the mean:"
      ],
      "metadata": {
        "id": "w9Od3SmVJn-G"
      }
    },
    {
      "cell_type": "code",
      "source": [
        "#manual\n",
        "import math\n",
        "ages = [18, 21, 20, 19, 22, 23, 20, 21, 22, 19]\n",
        "mean=(sum(ages)/len(ages))\n",
        "print(\"the mean is: \",mean)\n"
      ],
      "metadata": {
        "colab": {
          "base_uri": "https://localhost:8080/"
        },
        "id": "qSjHyycZJs98",
        "outputId": "3be10aa2-71e8-4860-b8ff-163fa06f77ed"
      },
      "execution_count": 4,
      "outputs": [
        {
          "output_type": "stream",
          "name": "stdout",
          "text": [
            "20.5\n"
          ]
        }
      ]
    },
    {
      "cell_type": "code",
      "source": [
        "#numpy mean\n",
        "import numpy as np\n",
        "ages = [18, 21, 20, 19, 22, 23, 20, 21, 22, 19]\n",
        "mean=np.mean(ages)\n",
        "print(\"the mean is: \",mean)\n"
      ],
      "metadata": {
        "colab": {
          "base_uri": "https://localhost:8080/"
        },
        "id": "IXdMK0-eKeTB",
        "outputId": "ec745898-be9b-4272-bdf3-38d0a254205b"
      },
      "execution_count": 5,
      "outputs": [
        {
          "output_type": "stream",
          "name": "stdout",
          "text": [
            "20.5\n"
          ]
        }
      ]
    },
    {
      "cell_type": "markdown",
      "source": [
        "Median Without Sorting Function\n",
        "\n",
        "*   Generate a list of 15 random integers between 10 and 50.\n",
        "\n",
        "\n"
      ],
      "metadata": {
        "id": "LfySG1oDLH64"
      }
    },
    {
      "cell_type": "code",
      "source": [
        "from random import randint\n",
        "import numpy as np\n",
        "list= [randint(10, 50) for _ in range(15)]\n",
        "list.sort()\n",
        "print(list)"
      ],
      "metadata": {
        "colab": {
          "base_uri": "https://localhost:8080/"
        },
        "id": "f54eiTHfLTBi",
        "outputId": "4cc0945f-04e7-44f9-9580-c7c3e9629b03"
      },
      "execution_count": 15,
      "outputs": [
        {
          "output_type": "stream",
          "name": "stdout",
          "text": [
            "[10, 10, 10, 13, 17, 21, 22, 23, 24, 28, 30, 30, 38, 47, 48]\n"
          ]
        }
      ]
    },
    {
      "cell_type": "code",
      "source": [
        "#manually\n",
        "medine=(list[7]+list[8])/2\n",
        "print(\"the median is: \",int(medine))"
      ],
      "metadata": {
        "colab": {
          "base_uri": "https://localhost:8080/"
        },
        "id": "kWs7plzoNjUj",
        "outputId": "e188a7fc-b92c-4e6f-b20e-1d17b1c6fe24"
      },
      "execution_count": 21,
      "outputs": [
        {
          "output_type": "stream",
          "name": "stdout",
          "text": [
            "the median is:  23\n"
          ]
        }
      ]
    },
    {
      "cell_type": "code",
      "source": [
        "#NumPy’s median.\n",
        "median=np.median(list)\n",
        "print(\"the median is: \",int(median))"
      ],
      "metadata": {
        "colab": {
          "base_uri": "https://localhost:8080/"
        },
        "id": "bkCVha-WNlFs",
        "outputId": "c402601c-bfd9-47f4-9bfe-7cae1decd35a"
      },
      "execution_count": 23,
      "outputs": [
        {
          "output_type": "stream",
          "name": "stdout",
          "text": [
            "the median is:  23\n"
          ]
        }
      ]
    },
    {
      "cell_type": "code",
      "source": [
        "#Minimum_manually\n",
        "min=list[0]\n",
        "for i in list:\n",
        "  if i<min:\n",
        "    min=i\n",
        "print(\"the minimum is: \",min)"
      ],
      "metadata": {
        "colab": {
          "base_uri": "https://localhost:8080/"
        },
        "id": "UhT--vcsOWKX",
        "outputId": "6e8b3663-9a35-4a95-c3cd-e9c6be738569"
      },
      "execution_count": 25,
      "outputs": [
        {
          "output_type": "stream",
          "name": "stdout",
          "text": [
            "the minimum is:  10\n"
          ]
        }
      ]
    },
    {
      "cell_type": "code",
      "source": [
        "#Minimum by numpy\n",
        "min=np.min(list)\n",
        "print(\"the minimum is: \",min)"
      ],
      "metadata": {
        "colab": {
          "base_uri": "https://localhost:8080/"
        },
        "id": "WFx9LCZqO3fw",
        "outputId": "d461c96d-38c8-4b9d-8b75-e7edcb682985"
      },
      "execution_count": 27,
      "outputs": [
        {
          "output_type": "stream",
          "name": "stdout",
          "text": [
            "the minimum is:  10\n"
          ]
        }
      ]
    },
    {
      "cell_type": "code",
      "source": [
        "#maximum_manually\n",
        "max=list[0]\n",
        "for i in list:\n",
        "  if i>max:\n",
        "    max=i\n",
        "print(\"the maximum is: \",max)"
      ],
      "metadata": {
        "colab": {
          "base_uri": "https://localhost:8080/"
        },
        "id": "bX782HWwO_vE",
        "outputId": "d41bdb03-4a89-4dc0-9953-ea915d645060"
      },
      "execution_count": 29,
      "outputs": [
        {
          "output_type": "stream",
          "name": "stdout",
          "text": [
            "the maximum is:  48\n"
          ]
        }
      ]
    },
    {
      "cell_type": "code",
      "source": [
        "#maximum by numpy\n",
        "max=np.max(list)\n",
        "print(\"the maximum is: \",max)"
      ],
      "metadata": {
        "colab": {
          "base_uri": "https://localhost:8080/"
        },
        "id": "eB_XvXS3PI1m",
        "outputId": "536cb810-625f-4a65-e8e2-8ad4ad6602d4"
      },
      "execution_count": 30,
      "outputs": [
        {
          "output_type": "stream",
          "name": "stdout",
          "text": [
            "the maximum is:  48\n"
          ]
        }
      ]
    },
    {
      "cell_type": "code",
      "source": [
        "#Range_manually\n",
        "range=max-min\n",
        "print(\"the range is: \",range)"
      ],
      "metadata": {
        "colab": {
          "base_uri": "https://localhost:8080/"
        },
        "id": "nLpOiUJrPQNO",
        "outputId": "9f881487-b4f6-47c8-fe66-d4427037e329"
      },
      "execution_count": 32,
      "outputs": [
        {
          "output_type": "stream",
          "name": "stdout",
          "text": [
            "the range is:  38\n"
          ]
        }
      ]
    },
    {
      "cell_type": "code",
      "source": [
        "#Range by numpy\n",
        "range=np.ptp(list)\n",
        "print(\"the range is: \",range)"
      ],
      "metadata": {
        "colab": {
          "base_uri": "https://localhost:8080/"
        },
        "id": "i64Boh_NPfLe",
        "outputId": "0c324787-6972-4f15-9ce9-e3738132f536"
      },
      "execution_count": 34,
      "outputs": [
        {
          "output_type": "stream",
          "name": "stdout",
          "text": [
            "the range is:  38\n"
          ]
        }
      ]
    },
    {
      "cell_type": "markdown",
      "source": [
        "### Variance & Standard **Deviation**"
      ],
      "metadata": {
        "id": "tsmefLSFPpEW"
      }
    },
    {
      "cell_type": "code",
      "source": [
        "data = [5, 7, 3, 7, 9, 10, 15, 7]\n",
        "# Variance_manually\n",
        "mean = sum(data) / len(data)\n",
        "variance = sum((x - mean) ** 2 for x in data) / (len(data) - 1)\n",
        "print(\"the variance is: \",variance)\n"
      ],
      "metadata": {
        "colab": {
          "base_uri": "https://localhost:8080/"
        },
        "id": "1poiMeFhPlEB",
        "outputId": "01a9949b-ad6d-4fe6-d95a-b69c77f8ab01"
      },
      "execution_count": 43,
      "outputs": [
        {
          "output_type": "stream",
          "name": "stdout",
          "text": [
            "the variance is:  12.982142857142858\n"
          ]
        }
      ]
    },
    {
      "cell_type": "code",
      "source": [
        "# Variance by numpy\n",
        "variance=np.var(data)\n",
        "print(\"the variance is: \",variance)"
      ],
      "metadata": {
        "colab": {
          "base_uri": "https://localhost:8080/"
        },
        "id": "N1IZ_XfvQSei",
        "outputId": "b8c0e616-b24c-46ac-f6d6-b42bc1cec193"
      },
      "execution_count": 38,
      "outputs": [
        {
          "output_type": "stream",
          "name": "stdout",
          "text": [
            "the variance is:  11.359375\n"
          ]
        }
      ]
    },
    {
      "cell_type": "code",
      "source": [
        "#std_manually\n",
        "std=(variance)**(1/2)\n",
        "print(\"the standard deviation is: \",std)"
      ],
      "metadata": {
        "colab": {
          "base_uri": "https://localhost:8080/"
        },
        "id": "8mFElP4NSkKx",
        "outputId": "94ab4dd2-a32f-4961-8d33-5e3ed3b96f68"
      },
      "execution_count": 41,
      "outputs": [
        {
          "output_type": "stream",
          "name": "stdout",
          "text": [
            "the standard deviation is:  3.370367190678191\n"
          ]
        }
      ]
    },
    {
      "cell_type": "code",
      "source": [
        "#std by numpy\n",
        "std=np.std(data)\n",
        "print(\"the standard deviation is: \",std)"
      ],
      "metadata": {
        "colab": {
          "base_uri": "https://localhost:8080/"
        },
        "id": "TppCfr8ZUDoa",
        "outputId": "c3567daa-cf07-46d3-c9f4-15b6a8f71296"
      },
      "execution_count": 42,
      "outputs": [
        {
          "output_type": "stream",
          "name": "stdout",
          "text": [
            "the standard deviation is:  3.370367190678191\n"
          ]
        }
      ]
    },
    {
      "cell_type": "markdown",
      "source": [
        "# Quartiles & IQR"
      ],
      "metadata": {
        "id": "_sTPwQluXOK_"
      }
    },
    {
      "cell_type": "markdown",
      "source": [
        "Using numpy.percentile(), find the 25th, 50th, and 75th percentiles for a dataset."
      ],
      "metadata": {
        "id": "C0QAk4iQXa-M"
      }
    },
    {
      "cell_type": "code",
      "source": [
        "import numpy as np\n",
        "\n",
        "data = [5, 7, 3, 7, 9, 10, 15, 7]\n",
        "\n",
        "percentile_25 = np.percentile(data, 25)\n",
        "percentile_50 = np.percentile(data, 50)\n",
        "percentile_75 = np.percentile(data, 75)\n",
        "\n",
        "print(f\"25th percentile: {percentile_25}\")\n",
        "print(f\"50th percentile: {percentile_50}\")\n",
        "print(f\"75th percentile: {percentile_75}\")\n",
        "\n",
        "# Compute IQR\n",
        "iqr = percentile_75 - percentile_25\n",
        "print(f\"Interquartile Range (IQR): {iqr}\")"
      ],
      "metadata": {
        "colab": {
          "base_uri": "https://localhost:8080/"
        },
        "id": "yWojRH_CXdwH",
        "outputId": "80a764d1-2497-475d-88cd-a06f44956eba"
      },
      "execution_count": 45,
      "outputs": [
        {
          "output_type": "stream",
          "name": "stdout",
          "text": [
            "25th percentile: 6.5\n",
            "50th percentile: 7.0\n",
            "75th percentile: 9.25\n",
            "Interquartile Range (IQR): 2.75\n"
          ]
        }
      ]
    },
    {
      "cell_type": "markdown",
      "source": [
        "# Data Transformation & Statistics"
      ],
      "metadata": {
        "id": "fGtNklikYLfW"
      }
    },
    {
      "cell_type": "markdown",
      "source": [
        "8. Z-Score Normalization\n",
        "*  Write a function that converts the list into z-scores manually.\n",
        "\n"
      ],
      "metadata": {
        "id": "cIB3HTLhYXSJ"
      }
    },
    {
      "cell_type": "code",
      "source": [
        "list1=[2,3,4,5,6,7,8,9]\n"
      ],
      "metadata": {
        "id": "jz1KhxBOYZY9"
      },
      "execution_count": null,
      "outputs": []
    },
    {
      "cell_type": "code",
      "metadata": {
        "colab": {
          "base_uri": "https://localhost:8080/"
        },
        "id": "c9cb042e",
        "outputId": "308491b8-966e-4a0c-cc32-35561b505c37"
      },
      "source": [
        "import math\n",
        "def calculate_z_scores_manually(data):\n",
        "  n = len(data)\n",
        "  if n == 0:\n",
        "    return []\n",
        "\n",
        "  # Calculate the mean\n",
        "  mean = sum(data) / n\n",
        "\n",
        "  # Calculate the standard deviation\n",
        "  variance = sum((x - mean) ** 2 for x in data) / n\n",
        "  std_dev = math.sqrt(variance)\n",
        "\n",
        "  if std_dev == 0:\n",
        "    return [0.0] * n\n",
        "\n",
        "  # Calculate z-scores\n",
        "  z_scores = [(x - mean) / std_dev for x in data]\n",
        "\n",
        "  return z_scores\n",
        "\n",
        "# Example usage with list1\n",
        "list1=[2,3,4,5,6,7,8,9]\n",
        "z_scores_list1 = calculate_z_scores_manually(list1)\n",
        "print(\"Z-scores for list1:\", z_scores_list1)"
      ],
      "execution_count": 46,
      "outputs": [
        {
          "output_type": "stream",
          "name": "stdout",
          "text": [
            "Z-scores for list1: [-1.5275252316519468, -1.091089451179962, -0.6546536707079772, -0.2182178902359924, 0.2182178902359924, 0.6546536707079772, 1.091089451179962, 1.5275252316519468]\n"
          ]
        }
      ]
    },
    {
      "cell_type": "markdown",
      "source": [],
      "metadata": {
        "id": "Qe0Tt3zucZY1"
      }
    }
  ]
}