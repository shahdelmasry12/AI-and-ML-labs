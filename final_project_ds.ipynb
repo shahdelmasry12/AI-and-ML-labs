{
  "cells": [
    {
      "cell_type": "markdown",
      "metadata": {
        "id": "view-in-github",
        "colab_type": "text"
      },
      "source": [
        "<a href=\"https://colab.research.google.com/github/shahdelmasry12/AI-and-ML-labs/blob/main/final_project_ds.ipynb\" target=\"_parent\"><img src=\"https://colab.research.google.com/assets/colab-badge.svg\" alt=\"Open In Colab\"/></a>"
      ]
    },
    {
      "cell_type": "code",
      "execution_count": 1,
      "id": "d10d3c60-cf59-458c-bd76-9b17d9175a83",
      "metadata": {
        "id": "d10d3c60-cf59-458c-bd76-9b17d9175a83"
      },
      "outputs": [],
      "source": [
        "import numpy as np\n",
        "import pandas as pd\n",
        "import matplotlib.pyplot as plt\n",
        "import seaborn as sns"
      ]
    },
    {
      "cell_type": "code",
      "execution_count": 2,
      "id": "bce5fc87-6087-4f3e-91f5-cb8f467599cf",
      "metadata": {
        "colab": {
          "base_uri": "https://localhost:8080/",
          "height": 292
        },
        "id": "bce5fc87-6087-4f3e-91f5-cb8f467599cf",
        "outputId": "bee135cc-13d7-4294-ba15-89ad7b816e89"
      },
      "outputs": [
        {
          "output_type": "error",
          "ename": "FileNotFoundError",
          "evalue": "[Errno 2] No such file or directory: 'Student_performance.csv'",
          "traceback": [
            "\u001b[0;31m---------------------------------------------------------------------------\u001b[0m",
            "\u001b[0;31mFileNotFoundError\u001b[0m                         Traceback (most recent call last)",
            "\u001b[0;32m/tmp/ipython-input-1299517384.py\u001b[0m in \u001b[0;36m<cell line: 0>\u001b[0;34m()\u001b[0m\n\u001b[0;32m----> 1\u001b[0;31m \u001b[0mdf\u001b[0m \u001b[0;34m=\u001b[0m \u001b[0mpd\u001b[0m\u001b[0;34m.\u001b[0m\u001b[0mread_csv\u001b[0m\u001b[0;34m(\u001b[0m\u001b[0;34m'Student_performance.csv'\u001b[0m\u001b[0;34m)\u001b[0m\u001b[0;34m\u001b[0m\u001b[0;34m\u001b[0m\u001b[0m\n\u001b[0m",
            "\u001b[0;32m/usr/local/lib/python3.12/dist-packages/pandas/io/parsers/readers.py\u001b[0m in \u001b[0;36mread_csv\u001b[0;34m(filepath_or_buffer, sep, delimiter, header, names, index_col, usecols, dtype, engine, converters, true_values, false_values, skipinitialspace, skiprows, skipfooter, nrows, na_values, keep_default_na, na_filter, verbose, skip_blank_lines, parse_dates, infer_datetime_format, keep_date_col, date_parser, date_format, dayfirst, cache_dates, iterator, chunksize, compression, thousands, decimal, lineterminator, quotechar, quoting, doublequote, escapechar, comment, encoding, encoding_errors, dialect, on_bad_lines, delim_whitespace, low_memory, memory_map, float_precision, storage_options, dtype_backend)\u001b[0m\n\u001b[1;32m   1024\u001b[0m     \u001b[0mkwds\u001b[0m\u001b[0;34m.\u001b[0m\u001b[0mupdate\u001b[0m\u001b[0;34m(\u001b[0m\u001b[0mkwds_defaults\u001b[0m\u001b[0;34m)\u001b[0m\u001b[0;34m\u001b[0m\u001b[0;34m\u001b[0m\u001b[0m\n\u001b[1;32m   1025\u001b[0m \u001b[0;34m\u001b[0m\u001b[0m\n\u001b[0;32m-> 1026\u001b[0;31m     \u001b[0;32mreturn\u001b[0m \u001b[0m_read\u001b[0m\u001b[0;34m(\u001b[0m\u001b[0mfilepath_or_buffer\u001b[0m\u001b[0;34m,\u001b[0m \u001b[0mkwds\u001b[0m\u001b[0;34m)\u001b[0m\u001b[0;34m\u001b[0m\u001b[0;34m\u001b[0m\u001b[0m\n\u001b[0m\u001b[1;32m   1027\u001b[0m \u001b[0;34m\u001b[0m\u001b[0m\n\u001b[1;32m   1028\u001b[0m \u001b[0;34m\u001b[0m\u001b[0m\n",
            "\u001b[0;32m/usr/local/lib/python3.12/dist-packages/pandas/io/parsers/readers.py\u001b[0m in \u001b[0;36m_read\u001b[0;34m(filepath_or_buffer, kwds)\u001b[0m\n\u001b[1;32m    618\u001b[0m \u001b[0;34m\u001b[0m\u001b[0m\n\u001b[1;32m    619\u001b[0m     \u001b[0;31m# Create the parser.\u001b[0m\u001b[0;34m\u001b[0m\u001b[0;34m\u001b[0m\u001b[0m\n\u001b[0;32m--> 620\u001b[0;31m     \u001b[0mparser\u001b[0m \u001b[0;34m=\u001b[0m \u001b[0mTextFileReader\u001b[0m\u001b[0;34m(\u001b[0m\u001b[0mfilepath_or_buffer\u001b[0m\u001b[0;34m,\u001b[0m \u001b[0;34m**\u001b[0m\u001b[0mkwds\u001b[0m\u001b[0;34m)\u001b[0m\u001b[0;34m\u001b[0m\u001b[0;34m\u001b[0m\u001b[0m\n\u001b[0m\u001b[1;32m    621\u001b[0m \u001b[0;34m\u001b[0m\u001b[0m\n\u001b[1;32m    622\u001b[0m     \u001b[0;32mif\u001b[0m \u001b[0mchunksize\u001b[0m \u001b[0;32mor\u001b[0m \u001b[0miterator\u001b[0m\u001b[0;34m:\u001b[0m\u001b[0;34m\u001b[0m\u001b[0;34m\u001b[0m\u001b[0m\n",
            "\u001b[0;32m/usr/local/lib/python3.12/dist-packages/pandas/io/parsers/readers.py\u001b[0m in \u001b[0;36m__init__\u001b[0;34m(self, f, engine, **kwds)\u001b[0m\n\u001b[1;32m   1618\u001b[0m \u001b[0;34m\u001b[0m\u001b[0m\n\u001b[1;32m   1619\u001b[0m         \u001b[0mself\u001b[0m\u001b[0;34m.\u001b[0m\u001b[0mhandles\u001b[0m\u001b[0;34m:\u001b[0m \u001b[0mIOHandles\u001b[0m \u001b[0;34m|\u001b[0m \u001b[0;32mNone\u001b[0m \u001b[0;34m=\u001b[0m \u001b[0;32mNone\u001b[0m\u001b[0;34m\u001b[0m\u001b[0;34m\u001b[0m\u001b[0m\n\u001b[0;32m-> 1620\u001b[0;31m         \u001b[0mself\u001b[0m\u001b[0;34m.\u001b[0m\u001b[0m_engine\u001b[0m \u001b[0;34m=\u001b[0m \u001b[0mself\u001b[0m\u001b[0;34m.\u001b[0m\u001b[0m_make_engine\u001b[0m\u001b[0;34m(\u001b[0m\u001b[0mf\u001b[0m\u001b[0;34m,\u001b[0m \u001b[0mself\u001b[0m\u001b[0;34m.\u001b[0m\u001b[0mengine\u001b[0m\u001b[0;34m)\u001b[0m\u001b[0;34m\u001b[0m\u001b[0;34m\u001b[0m\u001b[0m\n\u001b[0m\u001b[1;32m   1621\u001b[0m \u001b[0;34m\u001b[0m\u001b[0m\n\u001b[1;32m   1622\u001b[0m     \u001b[0;32mdef\u001b[0m \u001b[0mclose\u001b[0m\u001b[0;34m(\u001b[0m\u001b[0mself\u001b[0m\u001b[0;34m)\u001b[0m \u001b[0;34m->\u001b[0m \u001b[0;32mNone\u001b[0m\u001b[0;34m:\u001b[0m\u001b[0;34m\u001b[0m\u001b[0;34m\u001b[0m\u001b[0m\n",
            "\u001b[0;32m/usr/local/lib/python3.12/dist-packages/pandas/io/parsers/readers.py\u001b[0m in \u001b[0;36m_make_engine\u001b[0;34m(self, f, engine)\u001b[0m\n\u001b[1;32m   1878\u001b[0m                 \u001b[0;32mif\u001b[0m \u001b[0;34m\"b\"\u001b[0m \u001b[0;32mnot\u001b[0m \u001b[0;32min\u001b[0m \u001b[0mmode\u001b[0m\u001b[0;34m:\u001b[0m\u001b[0;34m\u001b[0m\u001b[0;34m\u001b[0m\u001b[0m\n\u001b[1;32m   1879\u001b[0m                     \u001b[0mmode\u001b[0m \u001b[0;34m+=\u001b[0m \u001b[0;34m\"b\"\u001b[0m\u001b[0;34m\u001b[0m\u001b[0;34m\u001b[0m\u001b[0m\n\u001b[0;32m-> 1880\u001b[0;31m             self.handles = get_handle(\n\u001b[0m\u001b[1;32m   1881\u001b[0m                 \u001b[0mf\u001b[0m\u001b[0;34m,\u001b[0m\u001b[0;34m\u001b[0m\u001b[0;34m\u001b[0m\u001b[0m\n\u001b[1;32m   1882\u001b[0m                 \u001b[0mmode\u001b[0m\u001b[0;34m,\u001b[0m\u001b[0;34m\u001b[0m\u001b[0;34m\u001b[0m\u001b[0m\n",
            "\u001b[0;32m/usr/local/lib/python3.12/dist-packages/pandas/io/common.py\u001b[0m in \u001b[0;36mget_handle\u001b[0;34m(path_or_buf, mode, encoding, compression, memory_map, is_text, errors, storage_options)\u001b[0m\n\u001b[1;32m    871\u001b[0m         \u001b[0;32mif\u001b[0m \u001b[0mioargs\u001b[0m\u001b[0;34m.\u001b[0m\u001b[0mencoding\u001b[0m \u001b[0;32mand\u001b[0m \u001b[0;34m\"b\"\u001b[0m \u001b[0;32mnot\u001b[0m \u001b[0;32min\u001b[0m \u001b[0mioargs\u001b[0m\u001b[0;34m.\u001b[0m\u001b[0mmode\u001b[0m\u001b[0;34m:\u001b[0m\u001b[0;34m\u001b[0m\u001b[0;34m\u001b[0m\u001b[0m\n\u001b[1;32m    872\u001b[0m             \u001b[0;31m# Encoding\u001b[0m\u001b[0;34m\u001b[0m\u001b[0;34m\u001b[0m\u001b[0m\n\u001b[0;32m--> 873\u001b[0;31m             handle = open(\n\u001b[0m\u001b[1;32m    874\u001b[0m                 \u001b[0mhandle\u001b[0m\u001b[0;34m,\u001b[0m\u001b[0;34m\u001b[0m\u001b[0;34m\u001b[0m\u001b[0m\n\u001b[1;32m    875\u001b[0m                 \u001b[0mioargs\u001b[0m\u001b[0;34m.\u001b[0m\u001b[0mmode\u001b[0m\u001b[0;34m,\u001b[0m\u001b[0;34m\u001b[0m\u001b[0;34m\u001b[0m\u001b[0m\n",
            "\u001b[0;31mFileNotFoundError\u001b[0m: [Errno 2] No such file or directory: 'Student_performance.csv'"
          ]
        }
      ],
      "source": [
        "df = pd.read_csv('Student_performance.csv')"
      ]
    },
    {
      "cell_type": "code",
      "execution_count": null,
      "id": "66f12bdd-8632-415d-aff3-fed60c16dc61",
      "metadata": {
        "id": "66f12bdd-8632-415d-aff3-fed60c16dc61"
      },
      "outputs": [],
      "source": [
        "df = df.drop(['race_ethnicity' , 'parental_level_of_education' , 'roll_no' ], axis = 1)"
      ]
    },
    {
      "cell_type": "code",
      "execution_count": null,
      "id": "ffa57ae1-ac36-4c8f-adb2-9c441a54f321",
      "metadata": {
        "id": "ffa57ae1-ac36-4c8f-adb2-9c441a54f321"
      },
      "outputs": [],
      "source": [
        "df.head()"
      ]
    },
    {
      "cell_type": "code",
      "execution_count": null,
      "id": "c31c2ae5-30ed-441b-b43d-f9bafeef4b31",
      "metadata": {
        "id": "c31c2ae5-30ed-441b-b43d-f9bafeef4b31"
      },
      "outputs": [],
      "source": []
    },
    {
      "cell_type": "code",
      "execution_count": null,
      "id": "5c782c1e-e5cf-4057-b491-8c4c570f0d96",
      "metadata": {
        "id": "5c782c1e-e5cf-4057-b491-8c4c570f0d96"
      },
      "outputs": [],
      "source": [
        "#### GENDER SECTION ####"
      ]
    },
    {
      "cell_type": "code",
      "execution_count": null,
      "id": "7f5b3311-8a04-4a35-b656-fc49d60424ba",
      "metadata": {
        "id": "7f5b3311-8a04-4a35-b656-fc49d60424ba"
      },
      "outputs": [],
      "source": [
        "genderUniqueValues = df['gender'].unique() # to check values in the column\n",
        "genderUniqueValues"
      ]
    },
    {
      "cell_type": "code",
      "execution_count": null,
      "id": "f3a399f3-714a-4976-976d-85eb3dd6683d",
      "metadata": {
        "id": "f3a399f3-714a-4976-976d-85eb3dd6683d"
      },
      "outputs": [],
      "source": [
        "firstHalfGender = df.iloc[0:5000 , :1] # to choose first 5000 rows"
      ]
    },
    {
      "cell_type": "code",
      "execution_count": null,
      "id": "4a1c952d-b5ec-4552-8bba-57ec388f330f",
      "metadata": {
        "id": "4a1c952d-b5ec-4552-8bba-57ec388f330f"
      },
      "outputs": [],
      "source": [
        "firstHalfGender['gender'] = firstHalfGender['gender'].replace({'Boy': 'male', '\\\\tmale': 'male' }) # replace trash values"
      ]
    },
    {
      "cell_type": "code",
      "execution_count": null,
      "id": "40b7289b-2d84-48e8-853b-f2a59f0f9580",
      "metadata": {
        "id": "40b7289b-2d84-48e8-853b-f2a59f0f9580"
      },
      "outputs": [],
      "source": [
        "tmp = firstHalfGender\n",
        "tmp[\"gender\"] = tmp[\"gender\"].fillna('male') #to fill nan values\n",
        "firstHalfGender = tmp # return to the variable"
      ]
    },
    {
      "cell_type": "code",
      "execution_count": null,
      "id": "020d4dbc-c9e6-4fc7-9da3-793b2d3aee52",
      "metadata": {
        "id": "020d4dbc-c9e6-4fc7-9da3-793b2d3aee52"
      },
      "outputs": [],
      "source": [
        "secondHalfGender = df.iloc[5000:10000 , :1] # to choose from 5000 to 10000"
      ]
    },
    {
      "cell_type": "code",
      "execution_count": null,
      "id": "1ea96d2f-08c3-4760-9c05-bb161363fa7f",
      "metadata": {
        "id": "1ea96d2f-08c3-4760-9c05-bb161363fa7f"
      },
      "outputs": [],
      "source": [
        "secondHalfGender['gender'] = secondHalfGender['gender'].replace({'Girl': 'female'}) # replace trash values"
      ]
    },
    {
      "cell_type": "code",
      "execution_count": null,
      "id": "a04f6d71-1a93-4a75-b861-306a6edf2f55",
      "metadata": {
        "id": "a04f6d71-1a93-4a75-b861-306a6edf2f55"
      },
      "outputs": [],
      "source": [
        "tmp = 0\n",
        "tmp = secondHalfGender\n",
        "tmp[\"gender\"] = tmp[\"gender\"].fillna('female') #to fill nan values\n",
        "secondHalfGender = tmp # return to the variable"
      ]
    },
    {
      "cell_type": "code",
      "execution_count": null,
      "id": "4eb8639c-bd88-4003-98cd-e1db12924c29",
      "metadata": {
        "id": "4eb8639c-bd88-4003-98cd-e1db12924c29"
      },
      "outputs": [],
      "source": [
        "frames = [firstHalfGender, secondHalfGender] # to concat the first and second gender rows\n",
        "finalGender = pd.concat(frames, ignore_index=True) # concat"
      ]
    },
    {
      "cell_type": "code",
      "execution_count": null,
      "id": "8b5a4428-fed9-4c72-88f7-571993474271",
      "metadata": {
        "id": "8b5a4428-fed9-4c72-88f7-571993474271"
      },
      "outputs": [],
      "source": [
        "df['gender'] = finalGender # to change gender to the final one in data frame"
      ]
    },
    {
      "cell_type": "code",
      "execution_count": null,
      "id": "86629c82-e19e-4dda-8429-7d19cbfa304d",
      "metadata": {
        "id": "86629c82-e19e-4dda-8429-7d19cbfa304d"
      },
      "outputs": [],
      "source": []
    },
    {
      "cell_type": "code",
      "execution_count": null,
      "id": "a89bbba9-85c3-456b-96f6-6e0f93faf9b8",
      "metadata": {
        "id": "a89bbba9-85c3-456b-96f6-6e0f93faf9b8"
      },
      "outputs": [],
      "source": []
    },
    {
      "cell_type": "code",
      "execution_count": null,
      "id": "364ef540-ad24-4e45-bddb-3add60a2482f",
      "metadata": {
        "id": "364ef540-ad24-4e45-bddb-3add60a2482f"
      },
      "outputs": [],
      "source": []
    },
    {
      "cell_type": "code",
      "execution_count": null,
      "id": "786d055a-06da-4378-adb0-e12f3dcfbfe0",
      "metadata": {
        "id": "786d055a-06da-4378-adb0-e12f3dcfbfe0"
      },
      "outputs": [],
      "source": [
        "#### LUNCH SECTION ####"
      ]
    },
    {
      "cell_type": "code",
      "execution_count": null,
      "id": "99ce2481-5635-47a4-a4ab-b1e9e211d04e",
      "metadata": {
        "id": "99ce2481-5635-47a4-a4ab-b1e9e211d04e"
      },
      "outputs": [],
      "source": [
        "checkUnique = df['lunch'].unique() # to check values in the column\n",
        "checkUnique"
      ]
    },
    {
      "cell_type": "code",
      "execution_count": null,
      "id": "c5aac202-a4e1-43c9-9680-78235d003e16",
      "metadata": {
        "id": "c5aac202-a4e1-43c9-9680-78235d003e16"
      },
      "outputs": [],
      "source": [
        "modeForLunch= df['lunch'].mode() # to calc mode in lunch (mode = the most repeateted value)\n",
        "modeForLunch"
      ]
    },
    {
      "cell_type": "code",
      "execution_count": null,
      "id": "83ec0633-d154-417e-a600-ef4c230e30e2",
      "metadata": {
        "id": "83ec0633-d154-417e-a600-ef4c230e30e2"
      },
      "outputs": [],
      "source": [
        "tmp = df.iloc[:, 1:2]   # to take lunch column to work on it\n",
        "tmp.loc[:, \"lunch\"] = tmp[\"lunch\"].fillna(1.0)  # use .loc to fill NaN values\n",
        "df['lunch'] = tmp['lunch']  # assign the \"lunch\" column to df"
      ]
    },
    {
      "cell_type": "code",
      "execution_count": null,
      "id": "c9a751b3-5a69-4774-8f33-99662658a27c",
      "metadata": {
        "id": "c9a751b3-5a69-4774-8f33-99662658a27c"
      },
      "outputs": [],
      "source": [
        "df['lunch'] = df['lunch'].astype(int) # to change data type to int instead of float"
      ]
    },
    {
      "cell_type": "code",
      "execution_count": null,
      "id": "395e50a4-7bbc-4527-9685-48a2870f3b2a",
      "metadata": {
        "id": "395e50a4-7bbc-4527-9685-48a2870f3b2a"
      },
      "outputs": [],
      "source": [
        "checkUnique = df['lunch'].unique() # to check values in the column\n",
        "checkUnique"
      ]
    },
    {
      "cell_type": "code",
      "execution_count": null,
      "id": "882fde7e-d316-4812-b9d7-c53d5fd645cb",
      "metadata": {
        "id": "882fde7e-d316-4812-b9d7-c53d5fd645cb"
      },
      "outputs": [],
      "source": []
    },
    {
      "cell_type": "code",
      "execution_count": null,
      "id": "67e165f1-ef0e-495b-8e69-28e3996b0870",
      "metadata": {
        "id": "67e165f1-ef0e-495b-8e69-28e3996b0870"
      },
      "outputs": [],
      "source": []
    },
    {
      "cell_type": "code",
      "execution_count": null,
      "id": "3f487192-e96d-4551-b107-2344d548ab0c",
      "metadata": {
        "id": "3f487192-e96d-4551-b107-2344d548ab0c"
      },
      "outputs": [],
      "source": []
    },
    {
      "cell_type": "code",
      "execution_count": null,
      "id": "dcd3daa4-ed35-46ea-8c32-f6648e3eeb67",
      "metadata": {
        "id": "dcd3daa4-ed35-46ea-8c32-f6648e3eeb67"
      },
      "outputs": [],
      "source": [
        "#### test_preparation_course SECTION ####"
      ]
    },
    {
      "cell_type": "code",
      "execution_count": null,
      "id": "0e090bc4-aaee-4496-8469-ef084472c44d",
      "metadata": {
        "id": "0e090bc4-aaee-4496-8469-ef084472c44d"
      },
      "outputs": [],
      "source": [
        "checkUnique = df['test_preparation_course'].unique() # to check values in the column\n",
        "checkUnique"
      ]
    },
    {
      "cell_type": "code",
      "execution_count": null,
      "id": "777fca2c-7e1f-4bf3-a674-782476bd5764",
      "metadata": {
        "id": "777fca2c-7e1f-4bf3-a674-782476bd5764"
      },
      "outputs": [],
      "source": [
        "modeForTest= df['test_preparation_course'].mode() # to calc mode in test_preparation_course (mode = the most repeateted value)\n",
        "modeForTest"
      ]
    },
    {
      "cell_type": "code",
      "execution_count": null,
      "id": "2f482fce-aa15-495e-9f90-12043cb7972c",
      "metadata": {
        "id": "2f482fce-aa15-495e-9f90-12043cb7972c"
      },
      "outputs": [],
      "source": [
        "tmp = df.iloc[:, 2:3]   # to take test_preparation_course column to work on it\n",
        "tmp.loc[:, \"test_preparation_course\"] = tmp[\"test_preparation_course\"].fillna(0.0)  # use .loc to fill NaN values\n",
        "df['test_preparation_course'] = tmp['test_preparation_course']  # assign the \"test_preparation_course\" column to df"
      ]
    },
    {
      "cell_type": "code",
      "execution_count": null,
      "id": "0cd01b24-1abe-4c20-87b5-98aacffc5377",
      "metadata": {
        "id": "0cd01b24-1abe-4c20-87b5-98aacffc5377"
      },
      "outputs": [],
      "source": [
        "df['test_preparation_course'] = df['test_preparation_course'].astype(int) # to change data type to int instead of float"
      ]
    },
    {
      "cell_type": "code",
      "execution_count": null,
      "id": "a9bd55b7-a777-4867-bca3-e650877e0614",
      "metadata": {
        "id": "a9bd55b7-a777-4867-bca3-e650877e0614"
      },
      "outputs": [],
      "source": [
        "checkUnique = df['test_preparation_course'].unique() # to check values in the column\n",
        "checkUnique"
      ]
    },
    {
      "cell_type": "code",
      "execution_count": null,
      "id": "caf9d3eb-9b5c-424e-b208-5b5b682f5658",
      "metadata": {
        "id": "caf9d3eb-9b5c-424e-b208-5b5b682f5658"
      },
      "outputs": [],
      "source": []
    },
    {
      "cell_type": "code",
      "execution_count": null,
      "id": "4cdd692a-cc75-4c27-98be-10f69414ce6d",
      "metadata": {
        "id": "4cdd692a-cc75-4c27-98be-10f69414ce6d"
      },
      "outputs": [],
      "source": []
    },
    {
      "cell_type": "code",
      "execution_count": null,
      "id": "c0c666bd-69de-4675-b2ea-8cb0359500aa",
      "metadata": {
        "id": "c0c666bd-69de-4675-b2ea-8cb0359500aa"
      },
      "outputs": [],
      "source": []
    },
    {
      "cell_type": "code",
      "execution_count": null,
      "id": "0c746a59-6c91-4ba6-90df-8530d2acad30",
      "metadata": {
        "id": "0c746a59-6c91-4ba6-90df-8530d2acad30"
      },
      "outputs": [],
      "source": [
        "#### math_score section ####"
      ]
    },
    {
      "cell_type": "code",
      "execution_count": null,
      "id": "4c3c5957-f928-493c-be76-b1f141a061a3",
      "metadata": {
        "id": "4c3c5957-f928-493c-be76-b1f141a061a3"
      },
      "outputs": [],
      "source": [
        "checkUnique = df['math_score'].unique() # to check values in the column\n",
        "checkUnique"
      ]
    },
    {
      "cell_type": "code",
      "execution_count": null,
      "id": "29bb59ac-9f29-4954-9ae8-5148b8c8a76b",
      "metadata": {
        "id": "29bb59ac-9f29-4954-9ae8-5148b8c8a76b"
      },
      "outputs": [],
      "source": [
        "# \\\\t41  حذف القيم  الغير مرغوبة فيهاا مثل مسافات اوسلاش او مثل\n",
        "df[\"math_score\"] = df[\"math_score\"].str.strip()"
      ]
    },
    {
      "cell_type": "code",
      "execution_count": null,
      "id": "34382187-6269-4580-9582-fdf37ce73a15",
      "metadata": {
        "id": "34382187-6269-4580-9582-fdf37ce73a15"
      },
      "outputs": [],
      "source": [
        "#NaNتحويل القيم الي نوع ارقام والقيم الغير قابله للتحويل نحولها  الي\n",
        "df[\"math_score\"] = pd.to_numeric(df[\"math_score\"], errors=\"coerce\")"
      ]
    },
    {
      "cell_type": "code",
      "execution_count": null,
      "id": "b69048fe-9255-45de-988c-b6e1283248a7",
      "metadata": {
        "id": "b69048fe-9255-45de-988c-b6e1283248a7"
      },
      "outputs": [],
      "source": [
        "#  NaNنبدل بدل 0 ب\n",
        "df[\"math_score\"] = df[\"math_score\"].replace(0, pd.NA)\n",
        "# نجيب الوسيط\n",
        "median_value = df[\"math_score\"].median()\n",
        "#نبدل القيم الفارغه بالوسيط\n",
        "df.loc[: , \"math_score\"] = df[\"math_score\"].fillna(median_value)\n",
        "\n",
        "df.head()\n"
      ]
    },
    {
      "cell_type": "code",
      "execution_count": null,
      "id": "9c232596-a276-4f15-9bb9-e4f06da1e9d0",
      "metadata": {
        "id": "9c232596-a276-4f15-9bb9-e4f06da1e9d0"
      },
      "outputs": [],
      "source": [
        "checkUnique = df['math_score'].unique() # to check values in the column\n",
        "checkUnique"
      ]
    },
    {
      "cell_type": "code",
      "execution_count": null,
      "id": "8d2565e8-e351-450a-b8c7-8114107e1b5b",
      "metadata": {
        "id": "8d2565e8-e351-450a-b8c7-8114107e1b5b"
      },
      "outputs": [],
      "source": []
    },
    {
      "cell_type": "code",
      "execution_count": null,
      "id": "0bef80c1-d00f-4c04-b786-9f3f5717ab0e",
      "metadata": {
        "id": "0bef80c1-d00f-4c04-b786-9f3f5717ab0e"
      },
      "outputs": [],
      "source": []
    },
    {
      "cell_type": "code",
      "execution_count": null,
      "id": "a83e788a-b835-4967-833a-7f315f8f6d25",
      "metadata": {
        "id": "a83e788a-b835-4967-833a-7f315f8f6d25"
      },
      "outputs": [],
      "source": []
    },
    {
      "cell_type": "code",
      "execution_count": null,
      "id": "1893ad0f-5f91-4936-872d-b5317a3d3d2b",
      "metadata": {
        "id": "1893ad0f-5f91-4936-872d-b5317a3d3d2b"
      },
      "outputs": [],
      "source": [
        "#### reading_score section ####"
      ]
    },
    {
      "cell_type": "code",
      "execution_count": null,
      "id": "f63b04ad-4ac2-4fc8-9832-96b73648fc51",
      "metadata": {
        "id": "f63b04ad-4ac2-4fc8-9832-96b73648fc51"
      },
      "outputs": [],
      "source": [
        "checkUnique = df['reading_score'].unique() # to check values in the column\n",
        "checkUnique"
      ]
    },
    {
      "cell_type": "code",
      "execution_count": null,
      "id": "9642c409-c14f-4fba-a98a-1af66b41608c",
      "metadata": {
        "id": "9642c409-c14f-4fba-a98a-1af66b41608c"
      },
      "outputs": [],
      "source": [
        "#  NaNنبدل بدل 0 ب\n",
        "df[\"reading_score\"] = df[\"reading_score\"].replace(0, pd.NA)\n",
        "#الوسيط\n",
        "median_value = df[\"reading_score\"].median()\n",
        "#نبدل القيم الفارغه بالوسيط\n",
        "df.loc[: , \"reading_score\"] = df[\"reading_score\"].fillna(median_value)\n",
        "\n",
        "df.head()"
      ]
    },
    {
      "cell_type": "code",
      "execution_count": null,
      "id": "633b0101-e7d2-41c3-8a46-ff39a4a4ed9c",
      "metadata": {
        "id": "633b0101-e7d2-41c3-8a46-ff39a4a4ed9c"
      },
      "outputs": [],
      "source": [
        "checkUnique = df['reading_score'].unique() # to check values in the column\n",
        "checkUnique"
      ]
    },
    {
      "cell_type": "code",
      "execution_count": null,
      "id": "538dcdb0-b463-4249-829d-b14e0caba3de",
      "metadata": {
        "id": "538dcdb0-b463-4249-829d-b14e0caba3de"
      },
      "outputs": [],
      "source": []
    },
    {
      "cell_type": "code",
      "execution_count": null,
      "id": "f099285a-927c-4629-815f-d4cd25823e06",
      "metadata": {
        "id": "f099285a-927c-4629-815f-d4cd25823e06"
      },
      "outputs": [],
      "source": []
    },
    {
      "cell_type": "code",
      "execution_count": null,
      "id": "c5186154-ee92-44b5-8f90-58633a161980",
      "metadata": {
        "id": "c5186154-ee92-44b5-8f90-58633a161980"
      },
      "outputs": [],
      "source": []
    },
    {
      "cell_type": "code",
      "execution_count": null,
      "id": "2a117001-d38c-4a30-8194-e5fb9b850a0b",
      "metadata": {
        "id": "2a117001-d38c-4a30-8194-e5fb9b850a0b"
      },
      "outputs": [],
      "source": [
        "#### writing_score section ####"
      ]
    },
    {
      "cell_type": "code",
      "execution_count": null,
      "id": "bad6c488-1f00-4985-b7cd-c2fbb2966fb8",
      "metadata": {
        "id": "bad6c488-1f00-4985-b7cd-c2fbb2966fb8"
      },
      "outputs": [],
      "source": [
        "checkUnique = df['writing_score'].unique() # to check values in the column\n",
        "checkUnique"
      ]
    },
    {
      "cell_type": "code",
      "execution_count": null,
      "id": "fedb1ae8-7cc4-449b-b2e9-18ee13289d37",
      "metadata": {
        "id": "fedb1ae8-7cc4-449b-b2e9-18ee13289d37"
      },
      "outputs": [],
      "source": [
        "#  NaNنبدل بدل 0 ب\n",
        "df[\"writing_score\"] = df[\"writing_score\"].replace(0, pd.NA)\n",
        "\n",
        "median_value = df[\"writing_score\"].median()# get the median\n",
        "#نبدل القيم الفارغه بالوسيط\n",
        "df.loc[: , \"writing_score\"] = df[\"writing_score\"].fillna(median_value)\n",
        "\n",
        "df.head()"
      ]
    },
    {
      "cell_type": "code",
      "execution_count": null,
      "id": "8bb5dbe9-82a8-4f94-9515-d9bf2055fe05",
      "metadata": {
        "id": "8bb5dbe9-82a8-4f94-9515-d9bf2055fe05"
      },
      "outputs": [],
      "source": [
        "checkUnique = df['writing_score'].unique() # to check values in the column\n",
        "checkUnique"
      ]
    },
    {
      "cell_type": "code",
      "execution_count": null,
      "id": "0c2e3bc0-8c29-478b-bc45-fc4382f18e85",
      "metadata": {
        "id": "0c2e3bc0-8c29-478b-bc45-fc4382f18e85"
      },
      "outputs": [],
      "source": []
    },
    {
      "cell_type": "code",
      "execution_count": null,
      "id": "64643427-71ec-413d-996e-c98da69754d5",
      "metadata": {
        "id": "64643427-71ec-413d-996e-c98da69754d5"
      },
      "outputs": [],
      "source": []
    },
    {
      "cell_type": "code",
      "execution_count": null,
      "id": "2c8398f3-6e70-4a53-b1a2-4825576a532c",
      "metadata": {
        "id": "2c8398f3-6e70-4a53-b1a2-4825576a532c"
      },
      "outputs": [],
      "source": []
    },
    {
      "cell_type": "code",
      "execution_count": null,
      "id": "0af6b8e4-453f-4c8b-8eac-6c19cae4c6bc",
      "metadata": {
        "id": "0af6b8e4-453f-4c8b-8eac-6c19cae4c6bc"
      },
      "outputs": [],
      "source": [
        "#### science_score section ####"
      ]
    },
    {
      "cell_type": "code",
      "execution_count": null,
      "id": "377863ef-bf44-41bd-9137-777fe908f34a",
      "metadata": {
        "id": "377863ef-bf44-41bd-9137-777fe908f34a"
      },
      "outputs": [],
      "source": [
        "checkUnique = df['science_score'].unique() # to check values in the column\n",
        "checkUnique"
      ]
    },
    {
      "cell_type": "code",
      "execution_count": null,
      "id": "3d80f4d5-80f2-4923-95d7-101af58cb370",
      "metadata": {
        "id": "3d80f4d5-80f2-4923-95d7-101af58cb370"
      },
      "outputs": [],
      "source": [
        "#  NaNنبدل بدل 0 ب\n",
        "df[\"science_score\"] = df[\"science_score\"].replace(0, pd.NA)\n",
        "median_value = df[\"science_score\"].median()\n",
        "#نبدل القيم الفارغه بالوسيط\n",
        "df.loc[: , \"science_score\"] = df[\"science_score\"].fillna(median_value)\n",
        "\n",
        "df.head()"
      ]
    },
    {
      "cell_type": "code",
      "execution_count": null,
      "id": "0d72daf7-ea79-407f-87ec-82eb900bc9c0",
      "metadata": {
        "id": "0d72daf7-ea79-407f-87ec-82eb900bc9c0"
      },
      "outputs": [],
      "source": [
        "checkUnique = df['science_score'].unique() # to check values in the column\n",
        "checkUnique"
      ]
    },
    {
      "cell_type": "code",
      "execution_count": null,
      "id": "1c58f513-9580-48fe-ad19-69cc89466955",
      "metadata": {
        "id": "1c58f513-9580-48fe-ad19-69cc89466955"
      },
      "outputs": [],
      "source": []
    },
    {
      "cell_type": "code",
      "execution_count": null,
      "id": "4a19a9e1-dec1-47f8-a6f2-1ff3760d33ff",
      "metadata": {
        "id": "4a19a9e1-dec1-47f8-a6f2-1ff3760d33ff"
      },
      "outputs": [],
      "source": []
    },
    {
      "cell_type": "code",
      "execution_count": null,
      "id": "58366e77-3bd4-49be-b387-967dabcde25a",
      "metadata": {
        "id": "58366e77-3bd4-49be-b387-967dabcde25a"
      },
      "outputs": [],
      "source": []
    },
    {
      "cell_type": "code",
      "execution_count": null,
      "id": "1c2ab474-d1d4-4768-89f7-374d19b9efd0",
      "metadata": {
        "id": "1c2ab474-d1d4-4768-89f7-374d19b9efd0"
      },
      "outputs": [],
      "source": [
        "#### total_score section ####"
      ]
    },
    {
      "cell_type": "code",
      "execution_count": null,
      "id": "908c69c1-d27a-4cb8-8d0d-43839c21604a",
      "metadata": {
        "id": "908c69c1-d27a-4cb8-8d0d-43839c21604a"
      },
      "outputs": [],
      "source": [
        "df[\"total_score\"]=df[\"math_score\"]+df[\"reading_score\"]+df[\"writing_score\"]+df[\"science_score\"] #get total_score value\n",
        "df.head()\n"
      ]
    },
    {
      "cell_type": "code",
      "execution_count": null,
      "id": "2f8559f7-e60e-4c59-9ddd-608f58f7b933",
      "metadata": {
        "id": "2f8559f7-e60e-4c59-9ddd-608f58f7b933"
      },
      "outputs": [],
      "source": [
        "checkUnique = df['total_score'].unique() # to check values in the column\n",
        "checkUnique"
      ]
    },
    {
      "cell_type": "code",
      "execution_count": null,
      "id": "d05e2f2c-da34-45b2-a06a-00e29a174242",
      "metadata": {
        "id": "d05e2f2c-da34-45b2-a06a-00e29a174242"
      },
      "outputs": [],
      "source": []
    },
    {
      "cell_type": "code",
      "execution_count": null,
      "id": "3bd19c4f-3a41-4f06-9eee-9cd1d180c208",
      "metadata": {
        "id": "3bd19c4f-3a41-4f06-9eee-9cd1d180c208"
      },
      "outputs": [],
      "source": []
    },
    {
      "cell_type": "code",
      "execution_count": null,
      "id": "b2d3ea3a-a005-49b1-a7eb-2e0d8c521ab3",
      "metadata": {
        "id": "b2d3ea3a-a005-49b1-a7eb-2e0d8c521ab3"
      },
      "outputs": [],
      "source": []
    },
    {
      "cell_type": "code",
      "execution_count": null,
      "id": "fbf93177-80ae-4789-a107-54a7145644ef",
      "metadata": {
        "id": "fbf93177-80ae-4789-a107-54a7145644ef"
      },
      "outputs": [],
      "source": [
        "#### presentage section ####"
      ]
    },
    {
      "cell_type": "code",
      "execution_count": null,
      "id": "01e30f13-2aed-4d82-9c8d-91ddfe173e2b",
      "metadata": {
        "id": "01e30f13-2aed-4d82-9c8d-91ddfe173e2b"
      },
      "outputs": [],
      "source": [
        "df[\"Percentage\"]=(df[\"total_score\"]/400)*100  #add columns Percentage & get it's values"
      ]
    },
    {
      "cell_type": "code",
      "execution_count": null,
      "id": "d7a0a225-df6b-4370-86c8-0acb6b056835",
      "metadata": {
        "id": "d7a0a225-df6b-4370-86c8-0acb6b056835"
      },
      "outputs": [],
      "source": [
        "# listحولنا اسماء الاعمده لقائمه\n",
        "columns = list(df.columns)\n",
        "# total_score  بجانب العمود  Percentage لنقل العمودpop استخدمنا دالة\n",
        "#  بدلنا المواقع index(\"Percentage\") لنحدد موقعه ونضيف  قبله index(\"grade\")استخدمنا\n",
        "\n",
        "columns.insert(columns.index(\"grade\"), columns.pop(columns.index(\"Percentage\")))\n",
        "df = df[columns]\n",
        "\n",
        "df.head()"
      ]
    },
    {
      "cell_type": "code",
      "execution_count": null,
      "id": "34deb68e-9148-4fd4-af54-c5c68f83b1e5",
      "metadata": {
        "id": "34deb68e-9148-4fd4-af54-c5c68f83b1e5"
      },
      "outputs": [],
      "source": []
    },
    {
      "cell_type": "code",
      "execution_count": null,
      "id": "30091243-1b19-4899-b71b-721b82f55bb6",
      "metadata": {
        "id": "30091243-1b19-4899-b71b-721b82f55bb6"
      },
      "outputs": [],
      "source": []
    },
    {
      "cell_type": "code",
      "execution_count": null,
      "id": "af8305be-22b9-48ed-a8ee-ac5a9bdcfa13",
      "metadata": {
        "id": "af8305be-22b9-48ed-a8ee-ac5a9bdcfa13"
      },
      "outputs": [],
      "source": []
    },
    {
      "cell_type": "code",
      "execution_count": null,
      "id": "87bdc776-e6ed-43c8-8043-59d43ef43a89",
      "metadata": {
        "id": "87bdc776-e6ed-43c8-8043-59d43ef43a89"
      },
      "outputs": [],
      "source": [
        "#### grade section ####"
      ]
    },
    {
      "cell_type": "code",
      "execution_count": null,
      "id": "a707ad1d-2e84-4435-8ac5-333a6f56439d",
      "metadata": {
        "id": "a707ad1d-2e84-4435-8ac5-333a6f56439d"
      },
      "outputs": [],
      "source": [
        "grades = [] #  gradeوضع قيم للعمود\n",
        "\n",
        "for i in df['Percentage']:\n",
        "    if i <=100 and i>=95:\n",
        "        grades.append('A+')\n",
        "    elif i<95 and i>=90:\n",
        "        grades.append('A')\n",
        "    elif i<90 and i>=85:\n",
        "        grades.append('A-')\n",
        "    elif i<85 and i>=80:\n",
        "        grades.append('B+')\n",
        "    elif i<80 and i>=75:\n",
        "        grades.append('B')\n",
        "    elif i<75 and i>=70:\n",
        "        grades.append('C+')\n",
        "    elif i<70 and i>=65:\n",
        "        grades.append('C')\n",
        "    elif i<65 and i>=60:\n",
        "        grades.append('D+')\n",
        "    elif i<60 and i>=55:\n",
        "        grades.append('D')\n",
        "    elif i<55 and i>=50:\n",
        "        grades.append('D-')\n",
        "    else:\n",
        "        grades.append('F')\n",
        "\n",
        "df['grade'] = grades"
      ]
    },
    {
      "cell_type": "code",
      "execution_count": null,
      "id": "6a4318b8-fe5f-4729-a017-39f5115d624f",
      "metadata": {
        "id": "6a4318b8-fe5f-4729-a017-39f5115d624f"
      },
      "outputs": [],
      "source": [
        "df.head()"
      ]
    },
    {
      "cell_type": "code",
      "execution_count": null,
      "id": "790a3dce-114f-4659-bcf9-4538d072e70d",
      "metadata": {
        "id": "790a3dce-114f-4659-bcf9-4538d072e70d"
      },
      "outputs": [],
      "source": [
        "df.info()"
      ]
    },
    {
      "cell_type": "code",
      "execution_count": null,
      "id": "4d609377-baf7-4bfe-a071-0b0f9a20c9d7",
      "metadata": {
        "id": "4d609377-baf7-4bfe-a071-0b0f9a20c9d7"
      },
      "outputs": [],
      "source": [
        "df"
      ]
    },
    {
      "cell_type": "code",
      "execution_count": null,
      "id": "1fc2838b-2fbd-473e-bff8-bf7767a7fb20",
      "metadata": {
        "id": "1fc2838b-2fbd-473e-bff8-bf7767a7fb20"
      },
      "outputs": [],
      "source": []
    },
    {
      "cell_type": "code",
      "execution_count": null,
      "id": "67e03f18-f18f-4a8f-905b-4789cadedb21",
      "metadata": {
        "id": "67e03f18-f18f-4a8f-905b-4789cadedb21"
      },
      "outputs": [],
      "source": [
        "# visulaization#\n"
      ]
    },
    {
      "cell_type": "code",
      "execution_count": null,
      "id": "71ee100d-2e48-44dc-a7e1-ed656711aced",
      "metadata": {
        "id": "71ee100d-2e48-44dc-a7e1-ed656711aced"
      },
      "outputs": [],
      "source": [
        "genderRelation = df.groupby('gender')['total_score'].sum()"
      ]
    },
    {
      "cell_type": "code",
      "execution_count": null,
      "id": "48923072-951b-4a95-a174-c2d3662a9338",
      "metadata": {
        "id": "48923072-951b-4a95-a174-c2d3662a9338"
      },
      "outputs": [],
      "source": [
        "genderRelation.plot(kind = 'bar',title = 'male vs female / total score', xlabel = 'gender' , ylabel = 'total score' , grid = True , legend = True )"
      ]
    },
    {
      "cell_type": "code",
      "execution_count": null,
      "id": "24e33916-76dc-4ed3-ba3a-3da397237a29",
      "metadata": {
        "id": "24e33916-76dc-4ed3-ba3a-3da397237a29"
      },
      "outputs": [],
      "source": [
        "lunchRelation = df.groupby('lunch')['total_score'].sum()"
      ]
    },
    {
      "cell_type": "code",
      "execution_count": null,
      "id": "4e25d1c6-3e4a-4dc5-9c0b-c01fc3c91256",
      "metadata": {
        "id": "4e25d1c6-3e4a-4dc5-9c0b-c01fc3c91256"
      },
      "outputs": [],
      "source": [
        "lunchRelation.plot(kind = 'bar',title = 'lunch / total score', xlabel = 'had lunch' , ylabel = 'total score' , grid = True , legend = True)"
      ]
    },
    {
      "cell_type": "code",
      "execution_count": null,
      "id": "90abc54d-eb2f-4cc8-8468-213b190eb657",
      "metadata": {
        "id": "90abc54d-eb2f-4cc8-8468-213b190eb657"
      },
      "outputs": [],
      "source": [
        "courseRelation = df.groupby('test_preparation_course')['total_score'].sum()"
      ]
    },
    {
      "cell_type": "code",
      "execution_count": null,
      "id": "75c9e4e3-f603-405f-8ccb-f98bd1ead89b",
      "metadata": {
        "id": "75c9e4e3-f603-405f-8ccb-f98bd1ead89b"
      },
      "outputs": [],
      "source": [
        "courseRelation.plot(kind = 'bar',title = 'test preparation course/ total score', xlabel = 'attendance' , ylabel = 'total score' , grid = True , legend = True)"
      ]
    },
    {
      "cell_type": "code",
      "execution_count": null,
      "id": "b9f80159-e131-450d-b910-3d8becc3c20c",
      "metadata": {
        "id": "b9f80159-e131-450d-b910-3d8becc3c20c"
      },
      "outputs": [],
      "source": []
    },
    {
      "cell_type": "code",
      "execution_count": null,
      "id": "3a880984-219e-4386-936c-fb0262893ce1",
      "metadata": {
        "id": "3a880984-219e-4386-936c-fb0262893ce1"
      },
      "outputs": [],
      "source": []
    },
    {
      "cell_type": "code",
      "execution_count": null,
      "id": "e1cca080-dd04-45b2-9c9b-1698fc9a8e8f",
      "metadata": {
        "id": "e1cca080-dd04-45b2-9c9b-1698fc9a8e8f"
      },
      "outputs": [],
      "source": [
        "pieRelation = df.groupby('grade')['Percentage'].sum()\n"
      ]
    },
    {
      "cell_type": "code",
      "execution_count": null,
      "id": "2de2559e-0e99-4dc7-9c91-9400f1b59e95",
      "metadata": {
        "id": "2de2559e-0e99-4dc7-9c91-9400f1b59e95"
      },
      "outputs": [],
      "source": [
        "pieRelation.plot(kind = 'pie', y = 'Percentage' , autopct= '%1.2f%%' , figsize = (10,10))"
      ]
    },
    {
      "cell_type": "code",
      "execution_count": null,
      "id": "5456f5b2-90e1-4ffe-8c5e-8d179af2bb4f",
      "metadata": {
        "id": "5456f5b2-90e1-4ffe-8c5e-8d179af2bb4f"
      },
      "outputs": [],
      "source": [
        "df2 = df"
      ]
    },
    {
      "cell_type": "code",
      "execution_count": null,
      "id": "4502320a-1f88-47cd-97ab-2b2688aa11e9",
      "metadata": {
        "id": "4502320a-1f88-47cd-97ab-2b2688aa11e9"
      },
      "outputs": [],
      "source": [
        "df2 = df2.drop([  'lunch' , 'test_preparation_course' ,'total_score', 'Percentage' ,'grade' ], axis = 1)\n",
        "df2"
      ]
    },
    {
      "cell_type": "code",
      "execution_count": null,
      "id": "2d3c4d0f-c8a1-45ea-b0c3-cfc50807fa02",
      "metadata": {
        "id": "2d3c4d0f-c8a1-45ea-b0c3-cfc50807fa02"
      },
      "outputs": [],
      "source": [
        "df2.plot(kind = 'area', grid = True )"
      ]
    },
    {
      "cell_type": "code",
      "execution_count": null,
      "id": "08b89954-2c06-4f33-83e3-31dab8bc7810",
      "metadata": {
        "id": "08b89954-2c06-4f33-83e3-31dab8bc7810"
      },
      "outputs": [],
      "source": []
    },
    {
      "cell_type": "code",
      "execution_count": null,
      "id": "4fb0a5ac-c522-462c-b6cc-928692f72578",
      "metadata": {
        "id": "4fb0a5ac-c522-462c-b6cc-928692f72578"
      },
      "outputs": [],
      "source": []
    }
  ],
  "metadata": {
    "kernelspec": {
      "display_name": "Python 3 (ipykernel)",
      "language": "python",
      "name": "python3"
    },
    "language_info": {
      "codemirror_mode": {
        "name": "ipython",
        "version": 3
      },
      "file_extension": ".py",
      "mimetype": "text/x-python",
      "name": "python",
      "nbconvert_exporter": "python",
      "pygments_lexer": "ipython3",
      "version": "3.12.4"
    },
    "colab": {
      "provenance": [],
      "include_colab_link": true
    }
  },
  "nbformat": 4,
  "nbformat_minor": 5
}