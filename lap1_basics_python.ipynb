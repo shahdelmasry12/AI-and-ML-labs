{
  "nbformat": 4,
  "nbformat_minor": 0,
  "metadata": {
    "colab": {
      "provenance": [],
      "authorship_tag": "ABX9TyMxviMzoCXpBzprXQpljghH",
      "include_colab_link": true
    },
    "kernelspec": {
      "name": "python3",
      "display_name": "Python 3"
    },
    "language_info": {
      "name": "python"
    }
  },
  "cells": [
    {
      "cell_type": "markdown",
      "metadata": {
        "id": "view-in-github",
        "colab_type": "text"
      },
      "source": [
        "<a href=\"https://colab.research.google.com/github/shahdelmasry12/AI-and-ML-labs/blob/main/lap1_basics_python.ipynb\" target=\"_parent\"><img src=\"https://colab.research.google.com/assets/colab-badge.svg\" alt=\"Open In Colab\"/></a>"
      ]
    },
    {
      "cell_type": "markdown",
      "source": [
        "# **Task 1**"
      ],
      "metadata": {
        "id": "k7i1SaHE5lpz"
      }
    },
    {
      "cell_type": "code",
      "execution_count": 2,
      "metadata": {
        "colab": {
          "base_uri": "https://localhost:8080/"
        },
        "id": "EJ3pHj3Akhs_",
        "outputId": "36260b3b-2391-45b9-ed7e-4e3b039e0ee6"
      },
      "outputs": [
        {
          "output_type": "stream",
          "name": "stdout",
          "text": [
            "3 + 4 = 7\n",
            "5 - 3 = 2\n",
            "3 * 4 + 5 = 17\n",
            "3 * (4 + 5) = 27\n",
            "5 / 3 = 1.67\n",
            "5 // 3 = 1\n",
            "5 % 3 = 2\n",
            "With float\n",
            "3.0 + 4.0 = 7.0\n",
            "5.0 - 3.0 = 2.0\n",
            "3.0 * 4.0 + 5.0 = 17.0\n",
            "3.0 * (4.0 + 5.0) = 27.0\n",
            "5.0 / 3.0 = 1.67\n",
            "5.0 // 3.0 = 1.0\n",
            "5.0 % 3.0 = 2.0\n"
          ]
        }
      ],
      "source": [
        "#1-Create number (+,_,*,/,//,%)\n",
        "num1,num2,num3=3,4,5\n",
        "print(f\"{num1} + {num2} = {num1+num2}\")\n",
        "print(f\"{num3} - {num1} = {num3-num1}\")\n",
        "print(f\"{num1} * {num2} + {num3} = {num1*num2+num3}\")\n",
        "print(f\"{num1} * ({num2} + {num3}) = {num1*(num2+num3)}\")\n",
        "print(f\"{num3} / {num1} = {num3/num1:.2f}\")\n",
        "print(f\"{num3} // {num1} = {num3//num1}\")\n",
        "print(f\"{num3} % {num1} = {num3%num1}\")\n",
        "print(\"With float\")\n",
        "num1,num2,num3=float(3),float(4),float(5)\n",
        "print(f\"{num1} + {num2} = {num1+num2}\")\n",
        "print(f\"{num3} - {num1} = {num3-num1}\")\n",
        "print(f\"{num1} * {num2} + {num3} = {num1*num2+num3}\")\n",
        "print(f\"{num1} * ({num2} + {num3}) = {num1*(num2+num3)}\")\n",
        "print(f\"{num3} / {num1} = {num3/num1:.2f}\")\n",
        "print(f\"{num3} // {num1} = {num3//num1}\")\n",
        "print(f\"{num3} % {num1} = {num3%num1}\")\n"
      ]
    },
    {
      "cell_type": "code",
      "source": [
        "#2-\n",
        "x,y,z,g=1,2,3,4\n",
        "print(x+((y*z)/g))\n",
        "print(y**z)"
      ],
      "metadata": {
        "colab": {
          "base_uri": "https://localhost:8080/"
        },
        "id": "31kiqy0Gn1Uf",
        "outputId": "2ec5635b-6858-4567-b529-c68475d0c786"
      },
      "execution_count": 3,
      "outputs": [
        {
          "output_type": "stream",
          "name": "stdout",
          "text": [
            "2.5\n",
            "8\n"
          ]
        }
      ]
    },
    {
      "cell_type": "code",
      "source": [
        "#3-\n",
        "str_a,str_b,str_c=\"Python \",\" is a\",\" times fun language\"\n",
        "num=100\n",
        "str_ab=str_a+str(num)+str_b+str_c\n",
        "print(str_ab)\n",
        "for i in range(1,11):\n",
        "    str_a10=str_a\n",
        "    print(str_a10)\n"
      ],
      "metadata": {
        "colab": {
          "base_uri": "https://localhost:8080/"
        },
        "id": "uWmAi444vjyA",
        "outputId": "cf8fe7db-f808-44fd-9d6e-e56344c0e524"
      },
      "execution_count": 4,
      "outputs": [
        {
          "output_type": "stream",
          "name": "stdout",
          "text": [
            "Python 100 is a times fun language\n",
            "Python \n",
            "Python \n",
            "Python \n",
            "Python \n",
            "Python \n",
            "Python \n",
            "Python \n",
            "Python \n",
            "Python \n",
            "Python \n"
          ]
        }
      ]
    },
    {
      "cell_type": "code",
      "source": [
        "#4-\n",
        "num_1,num_2,num_3,num_4=-5,3.2,5.7,625\n",
        "print(abs(num_1))\n",
        "print(round(num_2))\n",
        "print(round(num_3))\n",
        "print(f\"The square root of {num_4} == {int((num_4)**(1/2))}\")"
      ],
      "metadata": {
        "colab": {
          "base_uri": "https://localhost:8080/"
        },
        "id": "D9ndnvo5yjzJ",
        "outputId": "a14649a6-9e34-4b3e-eebd-bf02859edfa7"
      },
      "execution_count": 5,
      "outputs": [
        {
          "output_type": "stream",
          "name": "stdout",
          "text": [
            "5\n",
            "3\n",
            "6\n",
            "The square root of 625 == 25\n"
          ]
        }
      ]
    },
    {
      "cell_type": "code",
      "source": [
        "#5-\n",
        "num1, num2 = map(int, input().split())\n",
        "print(f\"{num1} * {num2} = {num1*num2}\")"
      ],
      "metadata": {
        "colab": {
          "base_uri": "https://localhost:8080/"
        },
        "id": "NxK05P0L3pkw",
        "outputId": "c5bef085-6358-4f79-d44d-f44b237afe92"
      },
      "execution_count": 6,
      "outputs": [
        {
          "output_type": "stream",
          "name": "stdout",
          "text": [
            "3 4\n",
            "3 * 4 = 12\n"
          ]
        }
      ]
    },
    {
      "cell_type": "markdown",
      "source": [
        "# **Task 2 PDF**"
      ],
      "metadata": {
        "id": "0L-7sc7R400n"
      }
    },
    {
      "cell_type": "code",
      "source": [
        "#1\n",
        "number=int(input(\"Enter the number? \"))\n",
        "if number%2==0:\n",
        "    print(f\"{number} is even number\")\n",
        "else:\n",
        "    print(f\"{number} is odd number\")"
      ],
      "metadata": {
        "colab": {
          "base_uri": "https://localhost:8080/"
        },
        "id": "m8FOd7RcoaM9",
        "outputId": "64849155-9b3d-4b50-e306-46cbcf86e61d"
      },
      "execution_count": 7,
      "outputs": [
        {
          "output_type": "stream",
          "name": "stdout",
          "text": [
            "Enter the number? 5\n",
            "5 is odd number\n"
          ]
        }
      ]
    },
    {
      "cell_type": "code",
      "source": [
        "#2\n",
        "student_score=int(input(\"Enter your score? \"))\n",
        "if student_score>=50:\n",
        "    print(\"Pass\")\n",
        "else:\n",
        "    print(\"Fail\")"
      ],
      "metadata": {
        "colab": {
          "base_uri": "https://localhost:8080/"
        },
        "id": "FYTam6Ggp2A5",
        "outputId": "b47aced4-78e8-4c75-e735-210b74b203cb"
      },
      "execution_count": 8,
      "outputs": [
        {
          "output_type": "stream",
          "name": "stdout",
          "text": [
            "Enter your score? 60\n",
            "Pass\n"
          ]
        }
      ]
    },
    {
      "cell_type": "code",
      "source": [
        "#3-Largest of 3 numbers\n",
        "num1, num2, num3= map(int, input().split())\n",
        "print(max(num1, num2, num3))"
      ],
      "metadata": {
        "colab": {
          "base_uri": "https://localhost:8080/"
        },
        "id": "IsR9ZEoQ6T88",
        "outputId": "d8c860e6-7d68-4687-e18a-81ce8493a4db"
      },
      "execution_count": 9,
      "outputs": [
        {
          "output_type": "stream",
          "name": "stdout",
          "text": [
            "2 3 4\n",
            "4\n"
          ]
        }
      ]
    },
    {
      "cell_type": "code",
      "source": [
        "#4-Counting with for\n",
        "for i in range(1,11):\n",
        "  print(i)"
      ],
      "metadata": {
        "colab": {
          "base_uri": "https://localhost:8080/"
        },
        "id": "D16i8tSPqgZC",
        "outputId": "588d44dc-58c2-4958-a6ae-ac38644a70e9"
      },
      "execution_count": 10,
      "outputs": [
        {
          "output_type": "stream",
          "name": "stdout",
          "text": [
            "1\n",
            "2\n",
            "3\n",
            "4\n",
            "5\n",
            "6\n",
            "7\n",
            "8\n",
            "9\n",
            "10\n"
          ]
        }
      ]
    },
    {
      "cell_type": "code",
      "source": [
        "#5-Grade Calculator\n",
        "student_score=int(input(\"Enter your score? \"))\n",
        "if student_score<=100 and student_score>=90:\n",
        "    print(\"A\")\n",
        "elif student_score<=89 and student_score>=80:\n",
        "    print(\"B\")\n",
        "elif student_score<=79 and student_score>=70:\n",
        "    print(\"C\")\n",
        "elif student_score<=69 and student_score>=60:\n",
        "    print(\"D\")\n",
        "elif student_score<60:\n",
        "    print(\"F\")\n",
        "\n"
      ],
      "metadata": {
        "colab": {
          "base_uri": "https://localhost:8080/"
        },
        "id": "fA9WP3PjqsBj",
        "outputId": "2f46f300-dfc6-41a2-cbc3-a9586e8c7725"
      },
      "execution_count": 11,
      "outputs": [
        {
          "output_type": "stream",
          "name": "stdout",
          "text": [
            "Enter your score? 30\n",
            "F\n"
          ]
        }
      ]
    },
    {
      "cell_type": "code",
      "source": [
        "#6-Multiplication Table\n",
        "number=int(input(\"Enter the number: \"))\n",
        "for i in range(1,11):\n",
        "    print(f\"{i} * {number} = {i*number}\")"
      ],
      "metadata": {
        "colab": {
          "base_uri": "https://localhost:8080/"
        },
        "id": "TbRi3r2srkY5",
        "outputId": "00fc3c6e-4c03-43ef-e2c7-fb633a92b91a"
      },
      "execution_count": 12,
      "outputs": [
        {
          "output_type": "stream",
          "name": "stdout",
          "text": [
            "Enter the number: 5\n",
            "1 * 5 = 5\n",
            "2 * 5 = 10\n",
            "3 * 5 = 15\n",
            "4 * 5 = 20\n",
            "5 * 5 = 25\n",
            "6 * 5 = 30\n",
            "7 * 5 = 35\n",
            "8 * 5 = 40\n",
            "9 * 5 = 45\n",
            "10 * 5 = 50\n"
          ]
        }
      ]
    },
    {
      "cell_type": "code",
      "source": [
        "#7-Sum of Even Numbers\n",
        "import math\n",
        "sum=0\n",
        "for i in range(2,51,2):\n",
        "    sum+=i\n",
        "print(f\"the sum of all even numbers between 1 and 50 ={sum}\")"
      ],
      "metadata": {
        "colab": {
          "base_uri": "https://localhost:8080/"
        },
        "id": "G0NbQFZxrux3",
        "outputId": "9cc85ae0-2c91-441f-9125-713f4ecc11c1"
      },
      "execution_count": 13,
      "outputs": [
        {
          "output_type": "stream",
          "name": "stdout",
          "text": [
            "the sum of all even numbers between 1 and 50 =650\n"
          ]
        }
      ]
    },
    {
      "cell_type": "code",
      "source": [
        "#8-Factorial with while loop\n",
        "number = int(input(\"Enter the number: \"))\n",
        "factorial = 1\n",
        "i = 1\n",
        "while i <= number:\n",
        "    factorial *= i\n",
        "    i += 1\n",
        "print(factorial)\n"
      ],
      "metadata": {
        "colab": {
          "base_uri": "https://localhost:8080/"
        },
        "id": "PMNcporOttAT",
        "outputId": "3934752b-48cb-418d-d645-52a1f0523fc6"
      },
      "execution_count": 14,
      "outputs": [
        {
          "output_type": "stream",
          "name": "stdout",
          "text": [
            "Enter the number: 4\n",
            "24\n"
          ]
        }
      ]
    },
    {
      "cell_type": "code",
      "source": [],
      "metadata": {
        "id": "9bbQdX1P8F-K"
      },
      "execution_count": null,
      "outputs": []
    }
  ]
}