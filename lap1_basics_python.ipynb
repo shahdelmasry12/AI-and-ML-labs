{
  "nbformat": 4,
  "nbformat_minor": 0,
  "metadata": {
    "colab": {
      "provenance": [],
      "authorship_tag": "ABX9TyMVvWSakcBrWpURUqTjeIzL",
      "include_colab_link": true
    },
    "kernelspec": {
      "name": "python3",
      "display_name": "Python 3"
    },
    "language_info": {
      "name": "python"
    }
  },
  "cells": [
    {
      "cell_type": "markdown",
      "metadata": {
        "id": "view-in-github",
        "colab_type": "text"
      },
      "source": [
        "<a href=\"https://colab.research.google.com/github/shahdelmasry12/AI-and-ML-labs/blob/main/lap1_basics_python.ipynb\" target=\"_parent\"><img src=\"https://colab.research.google.com/assets/colab-badge.svg\" alt=\"Open In Colab\"/></a>"
      ]
    },
    {
      "cell_type": "markdown",
      "source": [
        "# **Task 1**"
      ],
      "metadata": {
        "id": "k7i1SaHE5lpz"
      }
    },
    {
      "cell_type": "code",
      "execution_count": null,
      "metadata": {
        "colab": {
          "base_uri": "https://localhost:8080/"
        },
        "id": "EJ3pHj3Akhs_",
        "outputId": "e7f6c892-a70c-4df3-eea2-7ca951dd7268"
      },
      "outputs": [
        {
          "output_type": "stream",
          "name": "stdout",
          "text": [
            "3 + 4 = 7\n",
            "5 - 3 = 2\n",
            "3 * 4 + 5 = 17\n",
            "3 * (4 + 5) = 27\n",
            "5 / 3 = 1.6666666666666667\n",
            "5 // 3 = 1\n",
            "5 % 3 = 2\n",
            "With float\n",
            "3.0 + 4.0 = 7.0\n",
            "5.0 - 3.0 = 2.0\n",
            "3.0 * 4.0 + 5.0 = 17.0\n",
            "3.0 * (4.0 + 5.0) = 27.0\n",
            "5.0 / 3.0 = 1.6666666666666667\n",
            "5.0 // 3.0 = 1.0\n",
            "5.0 % 3.0 = 2.0\n"
          ]
        }
      ],
      "source": [
        "#1-Create number (+,_,*,/,//,%)\n",
        "num1,num2,num3=3,4,5\n",
        "print(f\"{num1} + {num2} = {num1+num2}\")\n",
        "print(f\"{num3} - {num1} = {num3-num1}\")\n",
        "print(f\"{num1} * {num2} + {num3} = {num1*num2+num3}\")\n",
        "print(f\"{num1} * ({num2} + {num3}) = {num1*(num2+num3)}\")\n",
        "print(f\"{num3} / {num1} = {num3/num1}\")\n",
        "print(f\"{num3} // {num1} = {num3//num1}\")\n",
        "print(f\"{num3} % {num1} = {num3%num1}\")\n",
        "print(\"With float\")\n",
        "num1,num2,num3=float(3),float(4),float(5)\n",
        "print(f\"{num1} + {num2} = {num1+num2}\")\n",
        "print(f\"{num3} - {num1} = {num3-num1}\")\n",
        "print(f\"{num1} * {num2} + {num3} = {num1*num2+num3}\")\n",
        "print(f\"{num1} * ({num2} + {num3}) = {num1*(num2+num3)}\")\n",
        "print(f\"{num3} / {num1} = {num3/num1}\")\n",
        "print(f\"{num3} // {num1} = {num3//num1}\")\n",
        "print(f\"{num3} % {num1} = {num3%num1}\")\n"
      ]
    },
    {
      "cell_type": "code",
      "source": [
        "#2-\n",
        "x,y,z,g=1,2,3,4\n",
        "print(x+((y*z)/g))\n",
        "print(y**z)"
      ],
      "metadata": {
        "colab": {
          "base_uri": "https://localhost:8080/"
        },
        "id": "31kiqy0Gn1Uf",
        "outputId": "f2447d15-5c56-4a16-aec2-e48e885559a6"
      },
      "execution_count": null,
      "outputs": [
        {
          "output_type": "stream",
          "name": "stdout",
          "text": [
            "2.5\n",
            "8\n"
          ]
        }
      ]
    },
    {
      "cell_type": "code",
      "source": [
        "#3-\n",
        "str_a,str_b,str_c=\"Python \",\" is a\",\" times fun language\"\n",
        "num=100\n",
        "str_ab=str_a+str(num)+str_b+str_c\n",
        "print(str_ab)\n",
        "for i in range(1,11):\n",
        "    str_a10=str_a\n",
        "    print(str_a10)\n"
      ],
      "metadata": {
        "colab": {
          "base_uri": "https://localhost:8080/"
        },
        "id": "uWmAi444vjyA",
        "outputId": "1e202ac0-a435-476e-f70b-6da35a5e2205"
      },
      "execution_count": null,
      "outputs": [
        {
          "output_type": "stream",
          "name": "stdout",
          "text": [
            "Python 100 is a times fun language\n",
            "Python \n",
            "Python \n",
            "Python \n",
            "Python \n",
            "Python \n",
            "Python \n",
            "Python \n",
            "Python \n",
            "Python \n",
            "Python \n"
          ]
        }
      ]
    },
    {
      "cell_type": "code",
      "source": [
        "#4-\n",
        "num_1,num_2,num_3,num_4=-5,3.2,5.7,625\n",
        "print(abs(num_1))\n",
        "print(round(num_2))\n",
        "print(round(num_3))\n",
        "print(f\"The square root of {num_4} == {int((num_4)**(1/2))}\")"
      ],
      "metadata": {
        "colab": {
          "base_uri": "https://localhost:8080/"
        },
        "id": "D9ndnvo5yjzJ",
        "outputId": "902ca509-f473-435a-adfd-db0cda03ec4f"
      },
      "execution_count": null,
      "outputs": [
        {
          "output_type": "stream",
          "name": "stdout",
          "text": [
            "5\n",
            "3\n",
            "6\n",
            "The square root of 625 == 25\n"
          ]
        }
      ]
    },
    {
      "cell_type": "code",
      "source": [
        "#5-\n",
        "num1, num2 = map(int, input().split())\n",
        "print(f\"{num1} * {num2} = {num1*num2}\")"
      ],
      "metadata": {
        "colab": {
          "base_uri": "https://localhost:8080/"
        },
        "id": "NxK05P0L3pkw",
        "outputId": "13afe9fe-807b-439e-f016-93fc3555892a"
      },
      "execution_count": null,
      "outputs": [
        {
          "output_type": "stream",
          "name": "stdout",
          "text": [
            "3 4\n",
            "3 * 4 = 12\n"
          ]
        }
      ]
    },
    {
      "cell_type": "markdown",
      "source": [
        "# **Task 2 PDF**"
      ],
      "metadata": {
        "id": "0L-7sc7R400n"
      }
    },
    {
      "cell_type": "code",
      "source": [
        "#1\n",
        "number=int(input(\"Enter the number? \"))\n",
        "if number%2==0:\n",
        "    print(f\"{number} is even number\")\n",
        "else:\n",
        "    print(f\"{number} is odd number\")"
      ],
      "metadata": {
        "colab": {
          "base_uri": "https://localhost:8080/"
        },
        "id": "m8FOd7RcoaM9",
        "outputId": "68bc11de-2eb0-4656-8f0a-37fc14b7db8e"
      },
      "execution_count": null,
      "outputs": [
        {
          "output_type": "stream",
          "name": "stdout",
          "text": [
            "Enter the number? 3\n",
            "3 is odd number\n"
          ]
        }
      ]
    },
    {
      "cell_type": "code",
      "source": [
        "#2\n",
        "student_score=int(input(\"Enter your score? \"))\n",
        "if student_score>=50:\n",
        "    print(\"Pass\")\n",
        "else:\n",
        "    print(\"Fail\")"
      ],
      "metadata": {
        "colab": {
          "base_uri": "https://localhost:8080/"
        },
        "id": "FYTam6Ggp2A5",
        "outputId": "04778522-8e16-4879-f54a-93da69cfe47d"
      },
      "execution_count": null,
      "outputs": [
        {
          "output_type": "stream",
          "name": "stdout",
          "text": [
            "Enter your score? 40\n",
            "Fail\n"
          ]
        }
      ]
    },
    {
      "cell_type": "code",
      "source": [
        "#3-Largest of 3 numbers\n",
        "num1, num2, num3= map(int, input().split())\n",
        "print(max(num1, num2, num3))"
      ],
      "metadata": {
        "colab": {
          "base_uri": "https://localhost:8080/"
        },
        "id": "IsR9ZEoQ6T88",
        "outputId": "84a4b6f7-bf3c-4498-cd03-5f752a533992"
      },
      "execution_count": null,
      "outputs": [
        {
          "output_type": "stream",
          "name": "stdout",
          "text": [
            "3 4 5\n",
            "5\n"
          ]
        }
      ]
    },
    {
      "cell_type": "code",
      "source": [
        "#4-Counting with for\n",
        "for i in range(1,11):\n",
        "  print(i)"
      ],
      "metadata": {
        "colab": {
          "base_uri": "https://localhost:8080/"
        },
        "id": "D16i8tSPqgZC",
        "outputId": "5b093771-ba44-401d-c63a-585c94953c02"
      },
      "execution_count": null,
      "outputs": [
        {
          "output_type": "stream",
          "name": "stdout",
          "text": [
            "1\n",
            "2\n",
            "3\n",
            "4\n",
            "5\n",
            "6\n",
            "7\n",
            "8\n",
            "9\n",
            "10\n"
          ]
        }
      ]
    },
    {
      "cell_type": "code",
      "source": [
        "#5-Grade Calculator\n",
        "student_score=int(input(\"Enter your score? \"))\n",
        "if student_score<=100 and student_score>=90:\n",
        "    print(\"A\")\n",
        "elif student_score<=89 and student_score>=80:\n",
        "    print(\"B\")\n",
        "elif student_score<=79 and student_score>=70:\n",
        "    print(\"C\")\n",
        "elif student_score<=69 and student_score>=60:\n",
        "    print(\"D\")\n",
        "elif student_score<60:\n",
        "    print(\"F\")\n",
        "\n"
      ],
      "metadata": {
        "colab": {
          "base_uri": "https://localhost:8080/"
        },
        "id": "fA9WP3PjqsBj",
        "outputId": "580761cc-9859-493f-c9aa-44f00a1990e5"
      },
      "execution_count": null,
      "outputs": [
        {
          "output_type": "stream",
          "name": "stdout",
          "text": [
            "Enter your score? 40\n",
            "F\n"
          ]
        }
      ]
    },
    {
      "cell_type": "code",
      "source": [
        "#6-Multiplication Table\n",
        "number=int(input(\"Enter the number: \"))\n",
        "for i in range(1,11):\n",
        "    print(f\"{i} * {number} = {i*number}\")"
      ],
      "metadata": {
        "colab": {
          "base_uri": "https://localhost:8080/"
        },
        "id": "TbRi3r2srkY5",
        "outputId": "bdb48035-b085-409c-d98a-83af87b3d94d"
      },
      "execution_count": null,
      "outputs": [
        {
          "output_type": "stream",
          "name": "stdout",
          "text": [
            "Enter the number: 4\n",
            "1 * 4 = 4\n",
            "2 * 4 = 8\n",
            "3 * 4 = 12\n",
            "4 * 4 = 16\n",
            "5 * 4 = 20\n",
            "6 * 4 = 24\n",
            "7 * 4 = 28\n",
            "8 * 4 = 32\n",
            "9 * 4 = 36\n",
            "10 * 4 = 40\n"
          ]
        }
      ]
    },
    {
      "cell_type": "code",
      "source": [
        "#7-Sum of Even Numbers\n",
        "import math\n",
        "sum=0\n",
        "for i in range(1,50):\n",
        "  if number%2==0:\n",
        "    sum+=i\n",
        "print(f\"the sum of all even numbers between 1 and 50 ={sum}\")"
      ],
      "metadata": {
        "colab": {
          "base_uri": "https://localhost:8080/"
        },
        "id": "G0NbQFZxrux3",
        "outputId": "022b6f91-2387-47dd-d7eb-85e52a8c24c7"
      },
      "execution_count": null,
      "outputs": [
        {
          "output_type": "stream",
          "name": "stdout",
          "text": [
            "the sum of all even numbers between 1 and 50 =1225\n"
          ]
        }
      ]
    },
    {
      "cell_type": "code",
      "source": [
        "#8-Factorial with while loop\n",
        "number = int(input(\"Enter the number: \"))\n",
        "factorial = 1\n",
        "i = 1\n",
        "while i <= number:\n",
        "    factorial *= i\n",
        "    i += 1\n",
        "print(factorial)\n"
      ],
      "metadata": {
        "colab": {
          "base_uri": "https://localhost:8080/"
        },
        "id": "PMNcporOttAT",
        "outputId": "96dbba66-b0b1-482d-d3e7-7f690aa898d2"
      },
      "execution_count": null,
      "outputs": [
        {
          "output_type": "stream",
          "name": "stdout",
          "text": [
            "Enter the number: 4\n",
            "24\n"
          ]
        }
      ]
    },
    {
      "cell_type": "code",
      "source": [],
      "metadata": {
        "id": "9bbQdX1P8F-K"
      },
      "execution_count": null,
      "outputs": []
    }
  ]
}